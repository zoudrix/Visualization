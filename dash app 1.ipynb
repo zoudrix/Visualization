{
 "cells": [
  {
   "cell_type": "code",
   "execution_count": 1,
   "metadata": {},
   "outputs": [],
   "source": [
    "import dash\n",
    "from dash import html\n",
    "from dash import dcc\n",
    "import plotly.express as px\n",
    "import pandas as pd\n",
    "from dash.dependencies import Input,Output"
   ]
  },
  {
   "cell_type": "code",
   "execution_count": 2,
   "metadata": {},
   "outputs": [],
   "source": [
    "\n",
    "app = dash.Dash()"
   ]
  },
  {
   "cell_type": "code",
   "execution_count": 3,
   "metadata": {},
   "outputs": [],
   "source": [
    "app.layout = html.Div([\n",
    "    html.H1('My 1st dashboard',style={'textAlign':'center','color':'blue'}),\n",
    "    html.Br(),\n",
    "    html.Hr(),\n",
    "    html.P(\"this is a test!\",style={'backgroundColor':'black','color':'white'})\n",
    "    \n",
    "    \n",
    "    \n",
    "    \n",
    "    \n",
    "    \n",
    "    \n",
    "])"
   ]
  },
  {
   "cell_type": "code",
   "execution_count": 4,
   "metadata": {},
   "outputs": [
    {
     "name": "stdout",
     "output_type": "stream",
     "text": [
      "Dash is running on http://127.0.0.1:8050/\n",
      "\n",
      " * Serving Flask app \"__main__\" (lazy loading)\n",
      " * Environment: production\n",
      "   WARNING: This is a development server. Do not use it in a production deployment.\n",
      "   Use a production WSGI server instead.\n",
      " * Debug mode: off\n"
     ]
    },
    {
     "name": "stderr",
     "output_type": "stream",
     "text": [
      " * Running on http://127.0.0.1:8050/ (Press CTRL+C to quit)\n",
      "127.0.0.1 - - [27/Oct/2021 18:10:03] \"\u001b[37mGET / HTTP/1.1\u001b[0m\" 200 -\n",
      "127.0.0.1 - - [27/Oct/2021 18:10:03] \"\u001b[37mGET /_dash-layout HTTP/1.1\u001b[0m\" 200 -\n",
      "127.0.0.1 - - [27/Oct/2021 18:10:03] \"\u001b[37mGET /_dash-dependencies HTTP/1.1\u001b[0m\" 200 -\n"
     ]
    }
   ],
   "source": [
    "app.run_server()"
   ]
  },
  {
   "cell_type": "code",
   "execution_count": null,
   "metadata": {},
   "outputs": [],
   "source": []
  },
  {
   "cell_type": "code",
   "execution_count": 5,
   "metadata": {},
   "outputs": [],
   "source": [
    "myStyle='https://codepen.io/chriddyp/pen/bWLwgP'\n",
    "app = dash.Dash(external_stylesheets=[myStyle])"
   ]
  },
  {
   "cell_type": "code",
   "execution_count": 6,
   "metadata": {},
   "outputs": [],
   "source": [
    "df = px.data.gapminder()\n",
    "fig =px.scatter(df[df.year==2007],x='gdpPercap',y='lifeExp',size='pop',color='continent',hover_name=\"country\",log_x=True,width=700,height=600,animation_frame='year',template=\"presentation\"\n",
    "          ,symbol='continent'\n",
    "          \n",
    "          )"
   ]
  },
  {
   "cell_type": "code",
   "execution_count": 7,
   "metadata": {},
   "outputs": [
    {
     "data": {
      "text/plain": [
       "{1952: 1952,\n",
       " 1957: 1957,\n",
       " 1962: 1962,\n",
       " 1967: 1967,\n",
       " 1972: 1972,\n",
       " 1977: 1977,\n",
       " 1982: 1982,\n",
       " 1987: 1987,\n",
       " 1992: 1992,\n",
       " 1997: 1997,\n",
       " 2002: 2002,\n",
       " 2007: 2007}"
      ]
     },
     "execution_count": 7,
     "metadata": {},
     "output_type": "execute_result"
    }
   ],
   "source": [
    "dictYear= dict(zip(df.year,df.year))\n",
    "dictYear"
   ]
  },
  {
   "cell_type": "code",
   "execution_count": 10,
   "metadata": {},
   "outputs": [],
   "source": [
    "app.layout = html.Div([\n",
    "    html.H1('My 1st dashboard',style={'textAlign':'center','color':'blue'}),\n",
    "    html.Br(),\n",
    "    html.Hr(),\n",
    "    html.Div([\n",
    "        html.Div(\n",
    "        [html.H1('hello'),\n",
    "        dcc.Graph(figure=fig),\n",
    "        dcc.Input(id=\"my_input\",placeholder='Enter a value...',\n",
    "        type='text',\n",
    "        value=''),\n",
    "        html.Div(id='my_div')\n",
    "        \n",
    "        \n",
    "        ]\n",
    "        \n",
    "        ),\n",
    "        html.Div([\n",
    "            \n",
    "            dcc.Graph(figure=fig),\n",
    "            \n",
    "            \n",
    "        ]),\n",
    "        html.Div('3')\n",
    "    ])\n",
    "    \n",
    "    \n",
    "    \n",
    "    \n",
    "])\n",
    "\n",
    "@app.callback(\n",
    "    Output(component_id=\"my_div\",component_property=\"children\"),\n",
    "    Input(component_id=\"my_input\",component_property=\"value\")\n",
    ")\n",
    "def callback(inputt):\n",
    "    return inputt"
   ]
  },
  {
   "cell_type": "code",
   "execution_count": null,
   "metadata": {},
   "outputs": [
    {
     "name": "stdout",
     "output_type": "stream",
     "text": [
      "Dash is running on http://127.0.0.1:8050/\n",
      "\n",
      "Dash is running on http://127.0.0.1:8050/\n",
      "\n",
      " * Serving Flask app \"__main__\" (lazy loading)\n",
      " * Environment: production\n",
      "   WARNING: This is a development server. Do not use it in a production deployment.\n",
      "   Use a production WSGI server instead.\n",
      " * Debug mode: off\n"
     ]
    },
    {
     "name": "stderr",
     "output_type": "stream",
     "text": [
      " * Running on http://127.0.0.1:8050/ (Press CTRL+C to quit)\n",
      "127.0.0.1 - - [27/Oct/2021 18:13:17] \"\u001b[37mGET / HTTP/1.1\u001b[0m\" 200 -\n",
      "127.0.0.1 - - [27/Oct/2021 18:13:17] \"\u001b[37mGET /_dash-layout HTTP/1.1\u001b[0m\" 200 -\n",
      "127.0.0.1 - - [27/Oct/2021 18:13:17] \"\u001b[37mGET /_dash-dependencies HTTP/1.1\u001b[0m\" 200 -\n",
      "127.0.0.1 - - [27/Oct/2021 18:13:17] \"\u001b[37mGET /_dash-component-suites/dash/dcc/async-graph.js HTTP/1.1\u001b[0m\" 200 -\n",
      "127.0.0.1 - - [27/Oct/2021 18:13:17] \"\u001b[37mGET /_dash-component-suites/dash/dcc/async-plotlyjs.js HTTP/1.1\u001b[0m\" 200 -\n"
     ]
    }
   ],
   "source": [
    "app.run_server()"
   ]
  },
  {
   "cell_type": "code",
   "execution_count": null,
   "metadata": {},
   "outputs": [],
   "source": []
  }
 ],
 "metadata": {
  "kernelspec": {
   "display_name": "Python 3",
   "language": "python",
   "name": "python3"
  },
  "language_info": {
   "codemirror_mode": {
    "name": "ipython",
    "version": 3
   },
   "file_extension": ".py",
   "mimetype": "text/x-python",
   "name": "python",
   "nbconvert_exporter": "python",
   "pygments_lexer": "ipython3",
   "version": "3.8.5"
  }
 },
 "nbformat": 4,
 "nbformat_minor": 4
}
