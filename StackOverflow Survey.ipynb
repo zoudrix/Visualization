{
 "cells": [
  {
   "cell_type": "markdown",
   "metadata": {},
   "source": [
    "# StackOverflow Survey"
   ]
  },
  {
   "cell_type": "markdown",
   "metadata": {},
   "source": [
    "## Imports\n"
   ]
  },
  {
   "cell_type": "code",
   "execution_count": 1,
   "metadata": {},
   "outputs": [],
   "source": [
    "import os\n",
    "import dash\n",
    "import numpy as np\n",
    "import plotly\n",
    "import plotly.express as px\n",
    "import pandas as pd\n",
    "import plotly.graph_objects as go\n",
    "import plotly.express as px\n",
    "import plotly.figure_factory as ff\n",
    "from dash import html\n",
    "from dash import dcc\n",
    "from dash.dependencies import Input, Output, State\n",
    "from plotly.subplots import make_subplots\n",
    "from sklearn.manifold import TSNE\n",
    "from sklearn.preprocessing import MultiLabelBinarizer\n",
    "from sklearn.preprocessing import StandardScaler\n",
    "from sklearn.preprocessing import RobustScaler\n",
    "from sklearn.preprocessing import MinMaxScaler\n",
    "from sklearn.pipeline import make_pipeline\n",
    "from sklearn.cluster import AgglomerativeClustering\n",
    "\n",
    "from matplotlib import pyplot as plt\n",
    "from scipy.cluster.hierarchy import dendrogram\n",
    "\n"
   ]
  },
  {
   "cell_type": "markdown",
   "metadata": {},
   "source": [
    "---\n",
    "\n",
    "## Constants"
   ]
  },
  {
   "cell_type": "code",
   "execution_count": 4,
   "metadata": {},
   "outputs": [],
   "source": [
    "CSS_URI = \"https://codepen.io/chriddyp/pen/bWLwgP.css\"\n",
    "DATA_PATH = \"./\"\n",
    "FILE = \"survey_results_public.csv\"\n"
   ]
  },
  {
   "cell_type": "markdown",
   "metadata": {},
   "source": [
    "---\n",
    "\n",
    "## Preprocessing\n"
   ]
  },
  {
   "cell_type": "code",
   "execution_count": null,
   "metadata": {},
   "outputs": [],
   "source": [
    "df = pd.read_csv(os.path.join(DATA_PATH, FILE), low_memory=0)\n",
    "\n",
    "df.head()"
   ]
  },
  {
   "cell_type": "code",
   "execution_count": 6,
   "metadata": {},
   "outputs": [],
   "source": [
    "REPLACE_DICT = {\n",
    "    \"YearsCodePro\": {\"Less than 1 year\": 0, \"More than 50 years\": 51},\n",
    "    \"YearsCode\": {\"Less than 1 year\": 0, \"More than 50 years\": 51},\n",
    "    \"Age1stCode\": {\"Older than 85\": 86, \"Younger than 5 years\": 4},\n",
    "}\n"
   ]
  },
  {
   "cell_type": "code",
   "execution_count": 7,
   "metadata": {},
   "outputs": [],
   "source": [
    "def split_answers(data_series, delimiter=\";\"):\n",
    "    \"\"\"\n",
    "    Split multiple answers in a single string\n",
    "    to a list of single strings each representing a single answers\n",
    "\n",
    "    Parameters:\n",
    "    * data_series (pd.Series): String series with answers\n",
    "    * delimiter (string): Another decimal integer\n",
    "                          Defaults to \";\"\n",
    "\n",
    "    Returns: (pd.Series): If column contains\n",
    "    \"\"\"\n",
    "\n",
    "    # Sub functions\n",
    "    def is_splittable(pd_series, delimiter):\n",
    "        \"\"\"Check if results multiple should be splitted - Returns boolean\"\"\"\n",
    "        return pd_series.str.contains(delimiter)\n",
    "\n",
    "    def split_answer(pd_series, delimiter):\n",
    "        \"\"\"Function to split single answer\"\"\"\n",
    "        return pd_series.str.split(delimiter)\n",
    "\n",
    "    # --------------------\n",
    "\n",
    "    # Check if multiple answers exist - if none: return original\n",
    "    splittable_values = is_splittable(data_series, delimiter)\n",
    "    if not splittable_values.any():\n",
    "        return data_series\n",
    "\n",
    "    # Else, split each value to a list\n",
    "    modified_series = split_answer(data_series, delimiter)\n",
    "\n",
    "    # Replace NAs with empty lists\n",
    "    mask_null = modified_series.isnull()\n",
    "    modified_series.loc[mask_null] = modified_series.loc[mask_null].apply(lambda x: [])\n",
    "\n",
    "    return modified_series\n"
   ]
  },
  {
   "cell_type": "code",
   "execution_count": 8,
   "metadata": {},
   "outputs": [],
   "source": [
    "for col, replacement in REPLACE_DICT.items():\n",
    "    df[col] = df[col].replace(replacement).astype(np.float32)\n"
   ]
  },
  {
   "cell_type": "code",
   "execution_count": 9,
   "metadata": {},
   "outputs": [],
   "source": [
    "object_cols = df.select_dtypes(include=\"object\").columns.tolist()\n",
    "for col in object_cols:\n",
    "    df[col] = split_answers(df[col])\n"
   ]
  },
  {
   "cell_type": "code",
   "execution_count": 10,
   "metadata": {},
   "outputs": [],
   "source": [
    "ROLES = \"roles_short_names.csv\"\n",
    "NA_STRING = \"Not Specified\"\n",
    "TRANSPARENT_STRING = \"rgba(0, 0, 0, 0)\"\n",
    "\n",
    "ROLE_COLS = [\"DevType\"]\n",
    "TECH_COLS = [\n",
    "    \"LanguageWorkedWith\",\n",
    "    \"DatabaseWorkedWith\",\n",
    "    \"WebframeWorkedWith\",\n",
    "    \"MiscTechWorkedWith\",\n",
    "]\n",
    "TECH_NEXT_COLS = [\n",
    "    \"LanguageDesireNextYear\",\n",
    "    \"DatabaseDesireNextYear\",\n",
    "    \"WebframeDesireNextYear\",\n",
    "    \"MiscTechDesireNextYear\",\n",
    "]\n"
   ]
  },
  {
   "cell_type": "code",
   "execution_count": 11,
   "metadata": {},
   "outputs": [],
   "source": [
    "roles_names = pd.read_csv(os.path.join(DATA_PATH, ROLES), sep=';')\n"
   ]
  },
  {
   "cell_type": "code",
   "execution_count": 12,
   "metadata": {},
   "outputs": [],
   "source": [
    "# df_raw = df.copy()\n",
    "encoded_dfs = {}\n",
    "for col in ROLE_COLS + TECH_COLS:\n",
    "    binarizer = MultiLabelBinarizer()\n",
    "    encoded_df = pd.DataFrame(\n",
    "        binarizer.fit_transform(df[col]),\n",
    "        columns=binarizer.classes_,\n",
    "        index=df[col].index,\n",
    "    )\n",
    "    encoded_dfs[col] = encoded_df\n"
   ]
  },
  {
   "cell_type": "code",
   "execution_count": 13,
   "metadata": {},
   "outputs": [],
   "source": [
    "df = pd.concat(encoded_dfs, axis=1)\n"
   ]
  },
  {
   "cell_type": "markdown",
   "metadata": {},
   "source": [
    "---\n",
    "\n",
    "## Building graphs\n"
   ]
  },
  {
   "cell_type": "markdown",
   "metadata": {},
   "source": [
    "### Tree-map for skill frequency\n"
   ]
  },
  {
   "cell_type": "code",
   "execution_count": 14,
   "metadata": {},
   "outputs": [],
   "source": [
    "skills_freq = df.drop(\"DevType\", axis=1).sum().reset_index()\n",
    "skills_freq.columns = [\"group\", \"skill\", \"freq\"]\n"
   ]
  },
  {
   "cell_type": "code",
   "execution_count": 15,
   "metadata": {},
   "outputs": [],
   "source": [
    "fig_treemap = px.treemap(skills_freq, \n",
    "                 path=['group', 'skill'], \n",
    "                 color_continuous_scale='deep',\n",
    "                 values='freq',color='freq')\n",
    "\n",
    "# fig_treemap.update_layout(width=1400, height=700)\n",
    "# fig_treemap.show()"
   ]
  },
  {
   "cell_type": "markdown",
   "metadata": {},
   "source": [
    "--- \n",
    "\n",
    "### Dendrogram for job skills\n"
   ]
  },
  {
   "cell_type": "code",
   "execution_count": 16,
   "metadata": {},
   "outputs": [],
   "source": [
    "sorted_roles = df[\"DevType\"].sum().sort_values().index.tolist()\n",
    "sorted_skills = (\n",
    "    df.drop(\"DevType\", axis=1)\n",
    "    .sum()\n",
    "    .sort_values(ascending=False)\n",
    "    .droplevel(level=0)\n",
    "    .index.tolist()\n",
    ")\n"
   ]
  },
  {
   "cell_type": "code",
   "execution_count": 17,
   "metadata": {},
   "outputs": [],
   "source": [
    "skills = []\n",
    "for role in sorted_roles:\n",
    "    role_mask = df[(\"DevType\", role)] == 1\n",
    "    skills_role = pd.concat(\n",
    "        {tech_col: df.loc[role_mask, tech_col].mean() * 100 for tech_col in TECH_COLS}\n",
    "    )\n",
    "    skills.append(skills_role)\n",
    "skills = pd.concat(skills, axis=1)\n",
    "\n",
    "\n",
    "skills.columns = sorted_roles\n",
    "skills = skills.reset_index(level=0, drop=True)\n",
    "skills = skills.loc[sorted_skills]\n",
    "\n",
    "skills = skills.T\n"
   ]
  },
  {
   "cell_type": "code",
   "execution_count": 18,
   "metadata": {
    "scrolled": true
   },
   "outputs": [],
   "source": [
    "roles_short_dict = roles_names.set_index(\"Original name\")[\"Short name \"].to_dict()\n",
    "short_labels = [roles_short_dict[role] for role in sorted_roles]\n"
   ]
  },
  {
   "cell_type": "code",
   "execution_count": 19,
   "metadata": {},
   "outputs": [],
   "source": [
    "fig_dendrogram = ff.create_dendrogram(\n",
    "    skills, labels=short_labels, orientation=\"left\", color_threshold=0\n",
    ")\n",
    "# fig_dendrogram.update_layout(height=600, width=600, showlegend=False)\n",
    "# fig_dendrogram.show()\n"
   ]
  },
  {
   "cell_type": "code",
   "execution_count": 20,
   "metadata": {},
   "outputs": [],
   "source": [
    "std_skills = StandardScaler().fit_transform(skills)\n",
    "std_skills = pd.DataFrame(std_skills, columns=skills.columns, index=skills.index)\n"
   ]
  },
  {
   "cell_type": "markdown",
   "metadata": {},
   "source": [
    "---\n",
    "\n",
    "### Job/Skill heatmap"
   ]
  },
  {
   "cell_type": "code",
   "execution_count": 21,
   "metadata": {
    "scrolled": true
   },
   "outputs": [],
   "source": [
    "fig_heatmap = go.Figure(\n",
    "    data=go.Heatmap(\n",
    "        z=std_skills, x=skills.columns, y=skills.index, colorscale=\"magma\", ygap=1\n",
    "    )\n",
    ")\n",
    "# fig.update_layout(width=1600, height=700)\n",
    "# fig.show()\n"
   ]
  },
  {
   "cell_type": "markdown",
   "metadata": {},
   "source": [
    "---\n",
    "\n",
    "## Dashboard for job profiles\n"
   ]
  },
  {
   "cell_type": "code",
   "execution_count": 22,
   "metadata": {},
   "outputs": [],
   "source": [
    "app = dash.Dash(external_stylesheets=[CSS_URI])\n"
   ]
  },
  {
   "cell_type": "code",
   "execution_count": 23,
   "metadata": {},
   "outputs": [],
   "source": [
    "app.layout = html.Div(\n",
    "    [\n",
    "        html.H1(\n",
    "            \"Analysis of Job Profiles in Software Development\",\n",
    "            style={\"textAlign\": \"center\", \"color\": \"blue\"},\n",
    "        ),\n",
    "        html.Br(),\n",
    "        html.Hr(),\n",
    "        # TODO implement slider for years of survey\n",
    "        dcc.Graph(figure=fig_treemap, id=\"figure-treemap\"),\n",
    "        dcc.Slider(\n",
    "        min=2017,\n",
    "        max=2021,\n",
    "        value=2020,\n",
    "        step=None,\n",
    "        id=\"year-slider\",\n",
    "        marks={str(y): str(y) for y in range(2011, 2022)}\n",
    "        ),\n",
    "        # /TODO\n",
    "        html.Div(\n",
    "            [\n",
    "                dcc.Graph(figure=fig_dendrogram, id=\"figure-dendrogram\"),\n",
    "            ],\n",
    "            style={\"display\": \"inline-block\"},\n",
    "        ),\n",
    "        html.Div(\n",
    "            [\n",
    "                dcc.Graph(figure=fig_heatmap, id=\"figure-heatmap\"),\n",
    "            ],\n",
    "            style={\"display\": \"inline-block\"},\n",
    "        ),\n",
    "        dcc.Dropdown(\n",
    "            id=\"role-drop\",\n",
    "            options=[{\"label\": r, \"value\": r} for r in sorted_roles],\n",
    "            value=np.random.choice(sorted_roles),\n",
    "        ),\n",
    "        dcc.Graph(figure=None, id=\"role-graph\"),\n",
    "    ]\n",
    ")\n"
   ]
  },
  {
   "cell_type": "code",
   "execution_count": 24,
   "metadata": {},
   "outputs": [],
   "source": [
    "@app.callback(\n",
    "    Output(component_id=\"role-graph\", component_property=\"figure\"),\n",
    "    Input(component_id=\"role-drop\", component_property=\"value\"),\n",
    ")\n",
    "def role_skills(selected_role):\n",
    "    \"\"\" \"\"\"\n",
    "    if not selected_role:\n",
    "        return selected_role\n",
    "    single_role_skills = pd.concat([skills.loc[selected_role], std_skills.loc[selected_role]], axis=1)\n",
    "    single_role_skills.columns = [\"percentage\", \"specificity\"]\n",
    "    single_role_skills = single_role_skills.sort_values(\"percentage\")\n",
    "\n",
    "    threshold = 10\n",
    "\n",
    "    single_role_skills = single_role_skills[\n",
    "        single_role_skills[\"percentage\"] > threshold\n",
    "    ]\n",
    "\n",
    "    return px.bar(\n",
    "        df,\n",
    "        y=single_role_skills.index,\n",
    "        x=single_role_skills[\"percentage\"],\n",
    "        color=single_role_skills[\"specificity\"],\n",
    "        color_continuous_scale=\"orrd\",\n",
    "        range_color=[std_skills.values.min(), std_skills.values.max()],\n",
    "        orientation=\"h\",\n",
    "    )\n"
   ]
  },
  {
   "cell_type": "code",
   "execution_count": 25,
   "metadata": {},
   "outputs": [],
   "source": [
    "# TODO implement callback for slider\n",
    "@app.callback(\n",
    "    Output(component_id=\"fig-treemap\", component_property=\"figure\"),\n",
    "    Output(component_id=\"fig-dendrogram\", component_property=\"figure\"),\n",
    "    Output(component_id=\"fig-heatmap\", component_property=\"figure\"),\n",
    "    Input(component_id=\"year-slider\", component_property=\"value\"),\n",
    ")\n",
    "def update_figures_by_year(yr):\n",
    "    \"\"\" \"\"\"\n",
    "    # TODO implement the logic for updating\n",
    "    return fig_treemap, fig_dendrogram, fig_heatmap\n"
   ]
  },
  {
   "cell_type": "code",
   "execution_count": null,
   "metadata": {},
   "outputs": [
    {
     "name": "stdout",
     "output_type": "stream",
     "text": [
      "Dash is running on http://127.0.0.1:8050/\n",
      "\n",
      " * Serving Flask app \"__main__\" (lazy loading)\n",
      " * Environment: production\n",
      "   WARNING: This is a development server. Do not use it in a production deployment.\n",
      "   Use a production WSGI server instead.\n",
      " * Debug mode: off\n"
     ]
    },
    {
     "name": "stderr",
     "output_type": "stream",
     "text": [
      " * Running on http://127.0.0.1:8050/ (Press CTRL+C to quit)\n",
      "127.0.0.1 - - [28/Oct/2021 11:56:43] \"\u001b[37mGET / HTTP/1.1\u001b[0m\" 200 -\n",
      "127.0.0.1 - - [28/Oct/2021 11:56:44] \"\u001b[37mGET /_dash-dependencies HTTP/1.1\u001b[0m\" 200 -\n",
      "127.0.0.1 - - [28/Oct/2021 11:56:44] \"\u001b[37mGET /_dash-layout HTTP/1.1\u001b[0m\" 200 -\n",
      "127.0.0.1 - - [28/Oct/2021 11:56:44] \"\u001b[37mGET /_dash-component-suites/dash/dcc/async-graph.js HTTP/1.1\u001b[0m\" 200 -\n",
      "127.0.0.1 - - [28/Oct/2021 11:56:44] \"\u001b[37mGET /_dash-component-suites/dash/dcc/async-slider.js HTTP/1.1\u001b[0m\" 200 -\n",
      "127.0.0.1 - - [28/Oct/2021 11:56:44] \"\u001b[37mGET /_dash-component-suites/dash/dcc/async-plotlyjs.js HTTP/1.1\u001b[0m\" 200 -\n",
      "127.0.0.1 - - [28/Oct/2021 11:56:44] \"\u001b[37mGET /_dash-component-suites/dash/dcc/async-dropdown.js HTTP/1.1\u001b[0m\" 200 -\n",
      "127.0.0.1 - - [28/Oct/2021 11:56:44] \"\u001b[37mPOST /_dash-update-component HTTP/1.1\u001b[0m\" 200 -\n",
      "127.0.0.1 - - [28/Oct/2021 11:58:55] \"\u001b[37mPOST /_dash-update-component HTTP/1.1\u001b[0m\" 200 -\n",
      "127.0.0.1 - - [28/Oct/2021 11:59:18] \"\u001b[37mPOST /_dash-update-component HTTP/1.1\u001b[0m\" 200 -\n",
      "127.0.0.1 - - [28/Oct/2021 11:59:26] \"\u001b[37mPOST /_dash-update-component HTTP/1.1\u001b[0m\" 200 -\n"
     ]
    }
   ],
   "source": [
    "app.run_server()"
   ]
  },
  {
   "cell_type": "code",
   "execution_count": null,
   "metadata": {},
   "outputs": [],
   "source": []
  }
 ],
 "metadata": {
  "interpreter": {
   "hash": "f9f85f796d01129d0dd105a088854619f454435301f6ffec2fea96ecbd9be4ac"
  },
  "kernelspec": {
   "display_name": "Python 3",
   "language": "python",
   "name": "python3"
  },
  "language_info": {
   "codemirror_mode": {
    "name": "ipython",
    "version": 3
   },
   "file_extension": ".py",
   "mimetype": "text/x-python",
   "name": "python",
   "nbconvert_exporter": "python",
   "pygments_lexer": "ipython3",
   "version": "3.8.5"
  }
 },
 "nbformat": 4,
 "nbformat_minor": 2
}
